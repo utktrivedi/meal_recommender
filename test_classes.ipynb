{
 "metadata": {
  "language_info": {
   "codemirror_mode": {
    "name": "ipython",
    "version": 3
   },
   "file_extension": ".py",
   "mimetype": "text/x-python",
   "name": "python",
   "nbconvert_exporter": "python",
   "pygments_lexer": "ipython3",
   "version": "3.8.3-final"
  },
  "orig_nbformat": 2,
  "kernelspec": {
   "name": "Python 3.8.3 64-bit ('base': conda)",
   "display_name": "Python 3.8.3 64-bit ('base': conda)",
   "metadata": {
    "interpreter": {
     "hash": "ecf5722fdaf1897a315d257d89d94520bfcaa453217d5becf09b39e73618b0de"
    }
   }
  }
 },
 "nbformat": 4,
 "nbformat_minor": 2,
 "cells": [
  {
   "cell_type": "code",
   "execution_count": 1,
   "metadata": {},
   "outputs": [],
   "source": [
    "from lib.unit import unit,weight_unit,volume_unit\n",
    "from lib.repo import repo\n"
   ]
  },
  {
   "cell_type": "code",
   "execution_count": 2,
   "metadata": {},
   "outputs": [],
   "source": [
    "#List of Volume Units \n",
    "tsp=volume_unit(\"tsp\",4.9289e-6,[\"teaspoon\",\"t\",\"tsp\",\"tsp.\"])   #teaspoon (also t or tsp.)\n",
    "tbl=volume_unit(\"tbl\",1.4787e-5,[\"teaspoon\",\"t\",\"tsp\",\"tsp.\"]) #tablespoon (also T, tbl., tbs., or tbsp.)\n",
    "floz= volume_unit(\"floz\",2.9574e-5,[\"floz\",\"fluid ounce\",\"flozs\",\"fl. oz.\"]) #fluid ounce (also fl oz)\n",
    "gill= volume_unit(\"gill\",0.000118294,[\"gill\",\"gills\",\"US gill\"])#gill (about 1/2 cup)\n",
    "cup= volume_unit(\"cup\",0.00024,[\"cup\",\"cups\"]) #cup (also c)\n",
    "pint= volume_unit(\"pint\",0.000473176,[\"pint\",\"pints\"])#pint (also p, pt, or fl pt - Specify Imperial or US)\n",
    "quart= volume_unit(\"quart\",0.000946353,[\"quart\",\"quarts\"])#quart (also q, qt, or fl qt - Specify Imperial or US)\n",
    "gallon= volume_unit(\"gallon\",0.00378541,[\"gallon\",\"gallons\"])#gallon (also g or gal - Specify Imperial or US)\n",
    "ml= volume_unit(\"ml\",1e-6,[\"ml\",\"mls\",\"mililitre\",\"mililiters\",\"cc\"])#ml, also milliliter, millilitre, cc (and mL only in the US, Canada and Australia).\n",
    "l= volume_unit(\"l\",1e-3,[\"l\",\"liter\",\"L\",\"litres\",\"litre\",\"litres\"])#l, also liter, litre, (and L only in the US, Canada and Australia).\n",
    "dl= volume_unit(\"dl\",1e-4,[\"dl\",\"dls\",\"deciliter\",\"decilitre\",\"deciliters\",\"decilitres\"])#dl, also deciliter, decilitre (and dL only in the US, Canada and Australia)."
   ]
  },
  {
   "cell_type": "code",
   "execution_count": 3,
   "metadata": {},
   "outputs": [],
   "source": [
    "#list of Mass Unit\n",
    "lb = weight_unit(\"lb\",0.453592,[\"lb\",\"lbs\",\"pound\",\"pounds\"]) #pound (also lb or #)\n",
    "oz = weight_unit(\"oz\",0.0283495,[\"oz\",\"ozs\",\"ounce\",\"ounces\"]) #ounce (also oz)\n",
    "mg = weight_unit(\"mg\",1e-6,[\"mg\",\"mgs\",\"miligram\",\"miligrams\"]) #mg (also milligram or milligramme)\n",
    "g = weight_unit(\"g\",1e-3,[\"g\",\"gs\",\"gram\",\"grams\"]) #g (also gram or gramme)\n",
    "kg = weight_unit.si_unit #kg (also kilogram or kilogramme)"
   ]
  },
  {
   "cell_type": "code",
   "execution_count": 4,
   "metadata": {},
   "outputs": [],
   "source": [
    "unit_repo = repo(name=\"unit_repo\",object_set=set([lb,oz,mg,g,kg,tsp,tbl,floz,gill,cup,pint,quart,gallon,ml,l,dl]))"
   ]
  },
  {
   "cell_type": "code",
   "execution_count": 5,
   "metadata": {},
   "outputs": [],
   "source": [
    "unit_repo.save()"
   ]
  },
  {
   "cell_type": "code",
   "execution_count": 6,
   "metadata": {},
   "outputs": [],
   "source": [
    "new_repo = repo.load(\"unit_repo\")"
   ]
  },
  {
   "cell_type": "code",
   "execution_count": 8,
   "metadata": {},
   "outputs": [
    {
     "output_type": "stream",
     "name": "stdout",
     "text": [
      "16\n"
     ]
    }
   ],
   "source": [
    "print(len(new_repo))"
   ]
  },
  {
   "cell_type": "code",
   "execution_count": 25,
   "metadata": {},
   "outputs": [],
   "source": [
    "su1 = new_repo.find_record(\"gallon\")\n",
    "su2 = new_repo.find_record(\"quart\")"
   ]
  },
  {
   "cell_type": "code",
   "execution_count": 26,
   "metadata": {},
   "outputs": [
    {
     "output_type": "execute_result",
     "data": {
      "text/plain": [
       "3.9999978866237016"
      ]
     },
     "metadata": {},
     "execution_count": 26
    }
   ],
   "source": [
    "su1.convertion_factor(su2)"
   ]
  }
 ]
}