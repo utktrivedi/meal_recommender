{
 "metadata": {
  "language_info": {
   "codemirror_mode": {
    "name": "ipython",
    "version": 3
   },
   "file_extension": ".py",
   "mimetype": "text/x-python",
   "name": "python",
   "nbconvert_exporter": "python",
   "pygments_lexer": "ipython3",
   "version": "3.8.3-final"
  },
  "orig_nbformat": 2,
  "kernelspec": {
   "name": "Python 3.8.3 64-bit ('base': conda)",
   "display_name": "Python 3.8.3 64-bit ('base': conda)",
   "metadata": {
    "interpreter": {
     "hash": "ecf5722fdaf1897a315d257d89d94520bfcaa453217d5becf09b39e73618b0de"
    }
   }
  }
 },
 "nbformat": 4,
 "nbformat_minor": 2,
 "cells": [
  {
   "cell_type": "code",
   "execution_count": 1,
   "metadata": {},
   "outputs": [],
   "source": [
    "import requests\n",
    "from bs4 import BeautifulSoup\n",
    "import lxml\n",
    "from lib.repo import repo\n",
    "import time\n",
    "from collections import deque\n",
    "from requests.exceptions import *"
   ]
  },
  {
   "cell_type": "code",
   "execution_count": 2,
   "metadata": {},
   "outputs": [],
   "source": [
    "def get_all_links_recursively(url:str,domain_url=None,link_repo=None,processed_url=None,filter_url=\"\"):\n",
    "    r = requests.get(url)\n",
    "    soup = BeautifulSoup(r.text,\"lxml\")\n",
    "    if link_repo is None or processed_url is None or domain_url is None:\n",
    "        link_repo=repo(\"link_repo\")\n",
    "        processed_url=deque([url])\n",
    "        domain_url=url\n",
    "    for a in soup.find_all('a', href=True):\n",
    "        link=a.get('href')\n",
    "        try:\n",
    "            if link not in processed_url and link.startswith(domain_url):\n",
    "                print(\"Started {},{}\".format(link,len(link_repo)))\n",
    "                if link.startswith(filter_url): \n",
    "                    link_repo.add_record(link)\n",
    "                processed_url.append(link)\n",
    "                get_all_links_recursively(link,domain_url,link_repo,processed_url)\n",
    "                print(\"Finished {},{}\".format(link,len(link_repo)))\n",
    "        except(MissingSchema,InvalidSchema):\n",
    "            pass\n",
    "    return link_repo"
   ]
  },
  {
   "cell_type": "code",
   "execution_count": 3,
   "metadata": {
    "tags": []
   },
   "outputs": [
    {
     "output_type": "error",
     "ename": "TypeError",
     "evalue": "startswith first arg must be str or a tuple of str, not NoneType",
     "traceback": [
      "\u001b[1;31m---------------------------------------------------------------------------\u001b[0m",
      "\u001b[1;31mTypeError\u001b[0m                                 Traceback (most recent call last)",
      "\u001b[1;32m<ipython-input-3-70288b0fa73b>\u001b[0m in \u001b[0;36m<module>\u001b[1;34m\u001b[0m\n\u001b[1;32m----> 1\u001b[1;33m \u001b[0mall_links\u001b[0m \u001b[1;33m=\u001b[0m \u001b[0mget_all_links_recursively\u001b[0m\u001b[1;33m(\u001b[0m\u001b[0murl\u001b[0m\u001b[1;33m=\u001b[0m\u001b[1;34m\"https://www.allrecipes.com/\"\u001b[0m\u001b[1;33m,\u001b[0m\u001b[0mfilter_url\u001b[0m\u001b[1;33m=\u001b[0m\u001b[1;34m\"https://www.allrecipes.com/recipe/\"\u001b[0m\u001b[1;33m)\u001b[0m\u001b[1;33m\u001b[0m\u001b[1;33m\u001b[0m\u001b[0m\n\u001b[0m",
      "\u001b[1;32m<ipython-input-2-5665964df657>\u001b[0m in \u001b[0;36mget_all_links_recursively\u001b[1;34m(url, domain_url, link_repo, processed_url, filter_url)\u001b[0m\n\u001b[0;32m      9\u001b[0m         \u001b[0mlink\u001b[0m\u001b[1;33m=\u001b[0m\u001b[0ma\u001b[0m\u001b[1;33m.\u001b[0m\u001b[0mget\u001b[0m\u001b[1;33m(\u001b[0m\u001b[1;34m'href'\u001b[0m\u001b[1;33m)\u001b[0m\u001b[1;33m\u001b[0m\u001b[1;33m\u001b[0m\u001b[0m\n\u001b[0;32m     10\u001b[0m         \u001b[1;32mtry\u001b[0m\u001b[1;33m:\u001b[0m\u001b[1;33m\u001b[0m\u001b[1;33m\u001b[0m\u001b[0m\n\u001b[1;32m---> 11\u001b[1;33m             \u001b[1;32mif\u001b[0m \u001b[0mlink\u001b[0m \u001b[1;32mnot\u001b[0m \u001b[1;32min\u001b[0m \u001b[0mprocessed_url\u001b[0m \u001b[1;32mand\u001b[0m \u001b[0mlink\u001b[0m\u001b[1;33m.\u001b[0m\u001b[0mstartswith\u001b[0m\u001b[1;33m(\u001b[0m\u001b[0mdomain_url\u001b[0m\u001b[1;33m)\u001b[0m\u001b[1;33m:\u001b[0m\u001b[1;33m\u001b[0m\u001b[1;33m\u001b[0m\u001b[0m\n\u001b[0m\u001b[0;32m     12\u001b[0m                 \u001b[0mprint\u001b[0m\u001b[1;33m(\u001b[0m\u001b[1;34m\"Started {},{}\"\u001b[0m\u001b[1;33m.\u001b[0m\u001b[0mformat\u001b[0m\u001b[1;33m(\u001b[0m\u001b[0mlink\u001b[0m\u001b[1;33m,\u001b[0m\u001b[0mlen\u001b[0m\u001b[1;33m(\u001b[0m\u001b[0mlink_repo\u001b[0m\u001b[1;33m)\u001b[0m\u001b[1;33m)\u001b[0m\u001b[1;33m)\u001b[0m\u001b[1;33m\u001b[0m\u001b[1;33m\u001b[0m\u001b[0m\n\u001b[0;32m     13\u001b[0m                 \u001b[1;32mif\u001b[0m \u001b[0mlink\u001b[0m\u001b[1;33m.\u001b[0m\u001b[0mstartswith\u001b[0m\u001b[1;33m(\u001b[0m\u001b[0mfilter_url\u001b[0m\u001b[1;33m)\u001b[0m\u001b[1;33m:\u001b[0m\u001b[1;33m\u001b[0m\u001b[1;33m\u001b[0m\u001b[0m\n",
      "\u001b[1;31mTypeError\u001b[0m: startswith first arg must be str or a tuple of str, not NoneType"
     ]
    }
   ],
   "source": [
    "all_links = get_all_links_recursively(url=\"https://www.allrecipes.com/\",filter_url=\"https://www.allrecipes.com/recipe/\")"
   ]
  }
 ]
}