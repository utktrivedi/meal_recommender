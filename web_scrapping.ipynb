{
 "metadata": {
  "language_info": {
   "codemirror_mode": {
    "name": "ipython",
    "version": 3
   },
   "file_extension": ".py",
   "mimetype": "text/x-python",
   "name": "python",
   "nbconvert_exporter": "python",
   "pygments_lexer": "ipython3",
   "version": "3.8.3-final"
  },
  "orig_nbformat": 2,
  "kernelspec": {
   "name": "Python 3.8.3 64-bit ('base': conda)",
   "display_name": "Python 3.8.3 64-bit ('base': conda)",
   "metadata": {
    "interpreter": {
     "hash": "ecf5722fdaf1897a315d257d89d94520bfcaa453217d5becf09b39e73618b0de"
    }
   }
  }
 },
 "nbformat": 4,
 "nbformat_minor": 2,
 "cells": [
  {
   "cell_type": "code",
   "execution_count": 8,
   "metadata": {},
   "outputs": [],
   "source": [
    "import requests\n",
    "from bs4 import BeautifulSoup\n",
    "import lxml, xml\n",
    "from lib.repo import repo\n",
    "import time\n",
    "from collections import deque\n",
    "from requests.exceptions import *"
   ]
  },
  {
   "cell_type": "code",
   "execution_count": 25,
   "metadata": {},
   "outputs": [],
   "source": [
    "def get_recipe_links(sitemap,link_repo:repo):\n",
    "    r = requests.get(sitemap)\n",
    "    soup = BeautifulSoup(r.text,\"xml\")\n",
    "    recipies = soup.find_all(\"loc\")\n",
    "    recipies=[k for k in recipies if '/recipe/' in k.text]\n",
    "    for recipe in recipies:\n",
    "        #print(recipe.text)\n",
    "        link_repo.add_record(recipe.text)\n",
    "    link_repo.save()"
   ]
  },
  {
   "cell_type": "code",
   "execution_count": 27,
   "metadata": {
    "tags": []
   },
   "outputs": [
    {
     "output_type": "stream",
     "name": "stdout",
     "text": [
      "Finished processing 1 sitemap\n",
      "Length of link repo:20377\n",
      "Finished processing 2 sitemap\n",
      "Length of link repo:36061\n",
      "Finished processing 3 sitemap\n",
      "Length of link repo:48860\n",
      "Finished processing 4 sitemap\n",
      "Length of link repo:59043\n",
      "Finished processing 5 sitemap\n",
      "Length of link repo:66551\n",
      "Finished processing 6 sitemap\n",
      "Length of link repo:71399\n",
      "Finished processing 7 sitemap\n",
      "Length of link repo:71399\n"
     ]
    }
   ],
   "source": [
    "link_repo=repo(\"link_repo\")\n",
    "link_repo.save()\n",
    "for i in range(1,8):\n",
    "    link_repo.load(\"link_repo\")\n",
    "    get_recipe_links(\"https://www.allrecipes.com/sitemaps/recipe/{}/sitemap.xml\".format(i),link_repo)\n",
    "    print(\"Finished processing {} sitemap\".format(i))\n",
    "    print(\"Length of link repo:{}\".format(len(link_repo)))\n"
   ]
  },
  {
   "cell_type": "code",
   "execution_count": 36,
   "metadata": {},
   "outputs": [
    {
     "output_type": "stream",
     "name": "stdout",
     "text": [
      "https://www.allrecipes.com/recipe/9777/no-bake-rum-balls/\nhttps://www.allrecipes.com/recipe/236474/salted-caramel-banana-bread/\nhttps://www.allrecipes.com/recipe/237651/the-duchess-martini/\nhttps://www.allrecipes.com/recipe/281774/homemade-peppermint-coffee-creamer/\nhttps://www.allrecipes.com/recipe/18004/brandis-best-burgers/\nhttps://www.allrecipes.com/recipe/272662/caprese-stuffed-chicken-breasts/\nhttps://www.allrecipes.com/recipe/21350/mou-shu-pork-wraps/\nhttps://www.allrecipes.com/recipe/20401/apricot-bars-ii/\nhttps://www.allrecipes.com/recipe/245608/nonnas-pizzelle/\nhttps://www.allrecipes.com/recipe/265801/roasted-brussels-sprouts-and-corn-salad/\n"
     ]
    }
   ],
   "source": [
    "import random\n",
    "link_repo.load(\"link_repo\")\n",
    "print(*random.sample(link_repo.object_set,10),sep=\"\\n\")"
   ]
  }
 ]
}